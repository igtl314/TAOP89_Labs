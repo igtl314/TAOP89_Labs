{
 "cells": [
  {
   "cell_type": "code",
   "execution_count": 10,
   "metadata": {},
   "outputs": [
    {
     "name": "stdout",
     "output_type": "stream",
     "text": [
      "enter file name: Reading data from file 'lab1-mus.mat'\n",
      "Datafile: 'lab1-mus.mat'\n"
     ]
    },
    {
     "ename": "error",
     "evalue": "Error -3 while decompressing data: incorrect header check",
     "output_type": "error",
     "traceback": [
      "\u001b[1;31m---------------------------------------------------------------------------\u001b[0m",
      "\u001b[1;31merror\u001b[0m                                     Traceback (most recent call last)",
      "Cell \u001b[1;32mIn [10], line 17\u001b[0m\n\u001b[0;32m     14\u001b[0m     exit()\n\u001b[0;32m     16\u001b[0m \u001b[38;5;28mprint\u001b[39m(\u001b[38;5;124m'\u001b[39m\u001b[38;5;124mDatafile: \u001b[39m\u001b[38;5;124m'\u001b[39m\u001b[38;5;241m+\u001b[39m\u001b[38;5;28mrepr\u001b[39m(fil))\n\u001b[1;32m---> 17\u001b[0m mat\u001b[38;5;241m=\u001b[39mscipy\u001b[38;5;241m.\u001b[39mio\u001b[38;5;241m.\u001b[39mloadmat(fil,squeeze_me\u001b[38;5;241m=\u001b[39m\u001b[38;5;28;01mTrue\u001b[39;00m)\n\u001b[0;32m     19\u001b[0m c\u001b[38;5;241m=\u001b[39mmat[\u001b[38;5;124m'\u001b[39m\u001b[38;5;124mc\u001b[39m\u001b[38;5;124m'\u001b[39m]\n\u001b[0;32m     20\u001b[0m A\u001b[38;5;241m=\u001b[39mmat[\u001b[38;5;124m'\u001b[39m\u001b[38;5;124mA\u001b[39m\u001b[38;5;124m'\u001b[39m]\n",
      "File \u001b[1;32mc:\\Users\\marcu\\AppData\\Local\\Programs\\Python\\Python310\\lib\\site-packages\\scipy\\io\\matlab\\_mio.py:226\u001b[0m, in \u001b[0;36mloadmat\u001b[1;34m(file_name, mdict, appendmat, **kwargs)\u001b[0m\n\u001b[0;32m    224\u001b[0m \u001b[39mwith\u001b[39;00m _open_file_context(file_name, appendmat) \u001b[39mas\u001b[39;00m f:\n\u001b[0;32m    225\u001b[0m     MR, _ \u001b[39m=\u001b[39m mat_reader_factory(f, \u001b[39m*\u001b[39m\u001b[39m*\u001b[39mkwargs)\n\u001b[1;32m--> 226\u001b[0m     matfile_dict \u001b[39m=\u001b[39m MR\u001b[39m.\u001b[39;49mget_variables(variable_names)\n\u001b[0;32m    228\u001b[0m \u001b[39mif\u001b[39;00m mdict \u001b[39mis\u001b[39;00m \u001b[39mnot\u001b[39;00m \u001b[39mNone\u001b[39;00m:\n\u001b[0;32m    229\u001b[0m     mdict\u001b[39m.\u001b[39mupdate(matfile_dict)\n",
      "File \u001b[1;32mc:\\Users\\marcu\\AppData\\Local\\Programs\\Python\\Python310\\lib\\site-packages\\scipy\\io\\matlab\\_mio5.py:312\u001b[0m, in \u001b[0;36mMatFile5Reader.get_variables\u001b[1;34m(self, variable_names)\u001b[0m\n\u001b[0;32m    310\u001b[0m mdict[\u001b[39m'\u001b[39m\u001b[39m__globals__\u001b[39m\u001b[39m'\u001b[39m] \u001b[39m=\u001b[39m []\n\u001b[0;32m    311\u001b[0m \u001b[39mwhile\u001b[39;00m \u001b[39mnot\u001b[39;00m \u001b[39mself\u001b[39m\u001b[39m.\u001b[39mend_of_stream():\n\u001b[1;32m--> 312\u001b[0m     hdr, next_position \u001b[39m=\u001b[39m \u001b[39mself\u001b[39;49m\u001b[39m.\u001b[39;49mread_var_header()\n\u001b[0;32m    313\u001b[0m     name \u001b[39m=\u001b[39m \u001b[39m'\u001b[39m\u001b[39mNone\u001b[39m\u001b[39m'\u001b[39m \u001b[39mif\u001b[39;00m hdr\u001b[39m.\u001b[39mname \u001b[39mis\u001b[39;00m \u001b[39mNone\u001b[39;00m \u001b[39melse\u001b[39;00m hdr\u001b[39m.\u001b[39mname\u001b[39m.\u001b[39mdecode(\u001b[39m'\u001b[39m\u001b[39mlatin1\u001b[39m\u001b[39m'\u001b[39m)\n\u001b[0;32m    314\u001b[0m     \u001b[39mif\u001b[39;00m name \u001b[39min\u001b[39;00m mdict:\n",
      "File \u001b[1;32mc:\\Users\\marcu\\AppData\\Local\\Programs\\Python\\Python310\\lib\\site-packages\\scipy\\io\\matlab\\_mio5.py:266\u001b[0m, in \u001b[0;36mMatFile5Reader.read_var_header\u001b[1;34m(self)\u001b[0m\n\u001b[0;32m    264\u001b[0m     \u001b[39mself\u001b[39m\u001b[39m.\u001b[39m_matrix_reader\u001b[39m.\u001b[39mset_stream(stream)\n\u001b[0;32m    265\u001b[0m     check_stream_limit \u001b[39m=\u001b[39m \u001b[39mself\u001b[39m\u001b[39m.\u001b[39mverify_compressed_data_integrity\n\u001b[1;32m--> 266\u001b[0m     mdtype, byte_count \u001b[39m=\u001b[39m \u001b[39mself\u001b[39;49m\u001b[39m.\u001b[39;49m_matrix_reader\u001b[39m.\u001b[39;49mread_full_tag()\n\u001b[0;32m    267\u001b[0m \u001b[39melse\u001b[39;00m:\n\u001b[0;32m    268\u001b[0m     check_stream_limit \u001b[39m=\u001b[39m \u001b[39mFalse\u001b[39;00m\n",
      "File \u001b[1;32m_mio5_utils.pyx:546\u001b[0m, in \u001b[0;36mscipy.io.matlab._mio5_utils.VarReader5.read_full_tag\u001b[1;34m()\u001b[0m\n",
      "File \u001b[1;32m_mio5_utils.pyx:554\u001b[0m, in \u001b[0;36mscipy.io.matlab._mio5_utils.VarReader5.cread_full_tag\u001b[1;34m()\u001b[0m\n",
      "File \u001b[1;32m_streams.pyx:150\u001b[0m, in \u001b[0;36mscipy.io.matlab._streams.ZlibInputStream.read_into\u001b[1;34m()\u001b[0m\n",
      "File \u001b[1;32m_streams.pyx:137\u001b[0m, in \u001b[0;36mscipy.io.matlab._streams.ZlibInputStream._fill_buffer\u001b[1;34m()\u001b[0m\n",
      "\u001b[1;31merror\u001b[0m: Error -3 while decompressing data: incorrect header check"
     ]
    }
   ],
   "source": [
    "#TAOP89 Marcus Döberl (mardo435) York F.v Wangenheim (yorfr185)\n",
    "import numpy as np\n",
    "import time\n",
    "import sys\n",
    "import copy\n",
    "\n",
    "e=1\n",
    "\n",
    "prob=\" \".join(sys.argv[1:]).split('.')[0]\n",
    "fil=prob+'.npz'\n",
    "\n",
    "npzfile = np.load(fil)\n",
    "npzfile.files\n",
    "m=npzfile['m'] #antal möjliga locations för en fabrik\n",
    "n=npzfile['n'] #antalet kunder \n",
    "s=npzfile['s'] #kapaciteten hos en fabrik på plats i    \n",
    "d=npzfile['d'] #efterfrågan hos en kund j\n",
    "f=npzfile['f'] #fasta kostnade för en anläggning på plats i\n",
    "c=npzfile['c'] #transportkostnaden per enhet till kund j från anläggning i\n",
    "#print 'm:',m,' n:',n\n",
    "#print 's:',s\n",
    "#print 'd:',d\n",
    "#print 'f:',f\n",
    "#print 'c:',c\n",
    "\n",
    "t1=time.time()\n",
    "x=np.zeros((m,n),dtype=np.int)\n",
    "y=np.zeros((m),dtype=np.int)\n",
    "\n",
    "ss=copy.deepcopy(s)\n",
    "dd=copy.deepcopy(d)\n",
    "\n",
    "while sum(dd)>0:\n",
    "    # find facility, find customer, send, at min cost\n",
    "    # set x and y\n",
    "    # deduct from ss and dd, \n",
    "    # --------\n",
    "\n",
    "\n",
    "\n",
    "elapsed = time.time() - t1\n",
    "print 'Tid: '+str('%.4f' % elapsed)\n",
    "\n",
    "cost=sum(sum(np.multiply(c,x))) + e*np.dot(f,y)\n",
    "print 'Problem:',prob,' Totalkostnad: '+str(cost)\n",
    "print 'y:',y\n",
    "print 'Antal byggda fabriker:',sum(y),'(av',m,')'"
   ]
  }
 ],
 "metadata": {
  "kernelspec": {
   "display_name": "Python 3.10.5 64-bit",
   "language": "python",
   "name": "python3"
  },
  "language_info": {
   "codemirror_mode": {
    "name": "ipython",
    "version": 3
   },
   "file_extension": ".py",
   "mimetype": "text/x-python",
   "name": "python",
   "nbconvert_exporter": "python",
   "pygments_lexer": "ipython3",
   "version": "3.10.5"
  },
  "orig_nbformat": 4,
  "vscode": {
   "interpreter": {
    "hash": "7590942054062122d360484ef7e5833373d05c49e4ca63566bad077475003be8"
   }
  }
 },
 "nbformat": 4,
 "nbformat_minor": 2
}
