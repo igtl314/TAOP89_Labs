{
 "cells": [
  {
   "cell_type": "code",
   "execution_count": null,
   "metadata": {},
   "outputs": [],
   "source": [
    "#TAOP89 Marcus Döberl (mardo435) York F.v Wangenheim (yorfr185)\n",
    "#Tar emot filer och lägger till .mat, används med mat filer\n",
    "import numpy as np\n",
    "import time\n",
    "import sys\n",
    "import copy\n",
    "import scipy.io\n",
    "\n",
    "e=0.01\n",
    "print(\"enter file name: \", end=\"\")\n",
    "fil = input()  \n",
    "prob = fil\n",
    "fil= fil +\".mat\"\n",
    "print(\"Reading data from file '\" + fil + \"'\")\n",
    "\n",
    "if fil==None:\n",
    "    print('File '+repr(fil)+' does n ot exist')\n",
    "    exit()\n",
    "\n",
    "print('Datafile: '+repr(fil))\n",
    "mat=scipy.io.loadmat(fil,squeeze_me=True)\n",
    "\n",
    "m=mat['m'] #antal möjliga locations för en fabrik\n",
    "n=mat['n'] #antalet kunder \n",
    "s=mat['s'] #kapaciteten hos en fabrik på plats i    \n",
    "d=mat['d'] #efterfrågan hos en kund j\n",
    "f=mat['f'] #fasta kostnade för en anläggning på plats i\n",
    "c=mat['c'] #transportkostnaden per enhet till kund j från anläggning i\n",
    "# print ('m:',m,' n:',n)\n",
    "# print ('s:',s)\n",
    "# print ('d:',d)\n",
    "# print ('f:',f)\n",
    "# print ('c:',c)\n",
    "\n",
    "t1=time.time()\n",
    "x=np.zeros((m,n),dtype=np.int)\n",
    "y=np.zeros((m),dtype=np.int)\n",
    "\n",
    "ss=copy.deepcopy(s)\n",
    "ff=copy.deepcopy(f)\n",
    "cc=copy.deepcopy(c)\n",
    "dd=copy.deepcopy(d)\n",
    "\n",
    "while sum(dd)>0:\n",
    "    fabrik = np.argmin(ff)\n",
    "    y[fabrik] = 1\n",
    "    kund = np.where(cc[fabrik,:] == np.amin(cc[fabrik,:]))[0][0]\n",
    "    if(ss[fabrik] > dd[kund]): #Om fabriken kan ta hand om hela kundens efterfrågan\n",
    "            ss[fabrik] -= dd[kund]\n",
    "            x[fabrik,kund] = dd[kund]\n",
    "            dd[kund] = 0\n",
    "            cc[:,kund] = 2147483647\n",
    "    elif(ss[fabrik] <= dd[kund]): # Om fabriken inte kan det, använd den så mycket som möjligt\n",
    "        dd[kund] -= ss[fabrik]\n",
    "        x[fabrik,kund] = ss[fabrik]\n",
    "        ss[fabrik] = 0 #Fabrikens kapacitet är nu slut\n",
    "        if(dd[kund] == 0):\n",
    "            cc[:,kund] = 2147483647\n",
    "        ff[fabrik] = 2147483647\n",
    "        cc[fabrik,:] = 2147483647 #Sätter alla transportkostnander från den tomma fabriken till oöndligheten\n",
    "\n",
    "\n",
    "    \n",
    "elapsed = time.time() - t1\n",
    "print ('Tid: '+str('%.4f' % elapsed + \"s\"))\n",
    "\n",
    "cost=sum(sum(np.multiply(c,x))) + e*np.dot(f,y)\n",
    "print ('Problem:',prob,' Totalkostnad: '+str(cost))\n",
    "differans = np.subtract(106668,cost)\n",
    "print('Differans', differans)\n",
    "print ('y:',y)\n",
    "print ('x:',x)\n",
    "print ('Antal byggda fabriker:',sum(y),'(av',m,')')"
   ]
  },
  {
   "cell_type": "code",
   "execution_count": null,
   "metadata": {},
   "outputs": [],
   "source": [
    "    "
   ]
  }
 ],
 "metadata": {
  "kernelspec": {
   "display_name": "Python 3.10.5 64-bit",
   "language": "python",
   "name": "python3"
  },
  "language_info": {
   "codemirror_mode": {
    "name": "ipython",
    "version": 3
   },
   "file_extension": ".py",
   "mimetype": "text/x-python",
   "name": "python",
   "nbconvert_exporter": "python",
   "pygments_lexer": "ipython3",
   "version": "3.10.5"
  },
  "orig_nbformat": 4,
  "vscode": {
   "interpreter": {
    "hash": "7590942054062122d360484ef7e5833373d05c49e4ca63566bad077475003be8"
   }
  }
 },
 "nbformat": 4,
 "nbformat_minor": 2
}
