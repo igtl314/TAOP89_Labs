{
 "cells": [
  {
   "cell_type": "code",
   "execution_count": 1,
   "metadata": {},
   "outputs": [
    {
     "ename": "IndentationError",
     "evalue": "expected an indented block after 'while' statement on line 33 (4145275170.py, line 41)",
     "output_type": "error",
     "traceback": [
      "\u001b[1;36m  Cell \u001b[1;32mIn [1], line 41\u001b[1;36m\u001b[0m\n\u001b[1;33m    elapsed = time.time() - t1\u001b[0m\n\u001b[1;37m    ^\u001b[0m\n\u001b[1;31mIndentationError\u001b[0m\u001b[1;31m:\u001b[0m expected an indented block after 'while' statement on line 33\n"
     ]
    }
   ],
   "source": [
    "#TAOP89 Marcus Döberl (mardo435) York F.v Wangenheim (yorfr185)\n",
    "import numpy as np\n",
    "import time\n",
    "import sys\n",
    "import copy\n",
    "\n",
    "e=1\n",
    "\n",
    "prob=\" \".join(sys.argv[1:]).split('.')[0]\n",
    "fil=prob+'.npz'\n",
    "\n",
    "npzfile = np.load(fil)\n",
    "npzfile.files\n",
    "m=npzfile['m'] #antal möjliga locations för en fabrik\n",
    "n=npzfile['n'] #antalet kunder \n",
    "s=npzfile['s'] #kapaciteten hos en fabrik på plats i    \n",
    "d=npzfile['d'] #efterfrågan hos en kund j\n",
    "f=npzfile['f'] #fasta kostnade för en anläggning på plats i\n",
    "c=npzfile['c'] #transportkostnaden per enhet till kund j från anläggning i\n",
    "#print 'm:',m,' n:',n\n",
    "#print 's:',s\n",
    "#print 'd:',d\n",
    "#print 'f:',f\n",
    "#print 'c:',c\n",
    "\n",
    "t1=time.time()\n",
    "x=np.zeros((m,n),dtype=np.int)\n",
    "y=np.zeros((m),dtype=np.int)\n",
    "\n",
    "ss=copy.deepcopy(s)\n",
    "dd=copy.deepcopy(d)\n",
    "\n",
    "while sum(dd)>0:\n",
    "    # find facility, find customer, send, at min cost\n",
    "    # set x and y\n",
    "    # deduct from ss and dd, \n",
    "    # --------\n",
    "    hej = 0\n",
    "\n",
    "\n",
    "\n",
    "elapsed = time.time() - t1\n",
    "print ('Tid: '+str('%.4f' % elapsed))\n",
    "\n",
    "cost=sum(sum(np.multiply(c,x))) + e*np.dot(f,y)\n",
    "print ('Problem:',prob,' Totalkostnad: '+str(cost))\n",
    "print ('y:',y)\n",
    "print ('Antal byggda fabriker:',sum(y),'(av',m,')')"
   ]
  }
 ],
 "metadata": {
  "kernelspec": {
   "display_name": "Python 3.10.5 64-bit",
   "language": "python",
   "name": "python3"
  },
  "language_info": {
   "codemirror_mode": {
    "name": "ipython",
    "version": 3
   },
   "file_extension": ".py",
   "mimetype": "text/x-python",
   "name": "python",
   "nbconvert_exporter": "python",
   "pygments_lexer": "ipython3",
   "version": "3.10.5"
  },
  "orig_nbformat": 4,
  "vscode": {
   "interpreter": {
    "hash": "7590942054062122d360484ef7e5833373d05c49e4ca63566bad077475003be8"
   }
  }
 },
 "nbformat": 4,
 "nbformat_minor": 2
}
