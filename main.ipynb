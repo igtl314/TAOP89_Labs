{
 "cells": [
  {
   "cell_type": "code",
   "execution_count": 15,
   "metadata": {},
   "outputs": [
    {
     "name": "stdout",
     "output_type": "stream",
     "text": [
      "enter file name: Reading data from file 'lab1-cloetta.mat'\n",
      "Datafile: 'lab1-cloetta.mat'\n",
      "Rows: 3 cols: 5\n",
      "c: [-2 -1  0  0  0]\n",
      "b: [ 1.    0.75 10.  ]\n",
      "A: [[ 1  1  1  0  0]\n",
      " [ 1  0  0  1  0]\n",
      " [ 8 20  0  0  1]]\n",
      "bix: [2 3 4]\n",
      "xcheat: [0.75 0.2  0.05 0.   0.  ]\n",
      "zcheat: -1.7\n"
     ]
    }
   ],
   "source": [
    "from numpy import *\n",
    "import time\n",
    "import sys\n",
    "import scipy.io\n",
    "\n",
    "print(\"enter file name: \", end=\"\")\n",
    "fil = input()  \n",
    "\n",
    "fil= fil +\".mat\"\n",
    "print(\"Reading data from file '\" + fil + \"'\")\n",
    "\n",
    "if fil==None:\n",
    "    print('File '+repr(fil)+' does not exist')\n",
    "    exit()\n",
    "\n",
    "print('Datafile: '+repr(fil))\n",
    "mat=scipy.io.loadmat(fil,squeeze_me=True)\n",
    "\n",
    "c=mat['c']\n",
    "A=mat['A']\n",
    "b=mat['b']\n",
    "bix=asarray(mat['bix'],dtype=int)\n",
    "zcheat=mat['zcheat']\n",
    "if 'xcheat' in mat:\n",
    "    xcheat=mat['xcheat']\n",
    "else:\n",
    "    xcheat=0\n",
    "\n",
    "bix=bix-1\n",
    "[m,n] = shape(A)\n",
    "print('Rows: '+repr(m)+' cols: '+repr(n))\n",
    "\n",
    "print('c:',c)\n",
    "print('b:',b)\n",
    "print('A:',A)\n",
    "print('bix:',bix)\n",
    "print('xcheat:',xcheat)\n",
    "print('zcheat:',zcheat)\n",
    "\n"
   ]
  },
  {
   "cell_type": "code",
   "execution_count": 54,
   "metadata": {},
   "outputs": [
    {
     "name": "stdout",
     "output_type": "stream",
     "text": [
      "0\n",
      "1\n"
     ]
    }
   ],
   "source": [
    "import numpy as np\n",
    "rc_min = np.amin(c)\n",
    "inkvar = int(np.where(c == np.amin(c))[0]) #vi ska nog använda asanarray och flatten. kommer nog inte funka om vi har flera np.\n",
    "\n",
    "inkKol = A[:, inkvar]\n",
    "utgKol = b/inkKol\n",
    "utgvar = int(np.where(utgKol == np.amin(utgKol))[0])\n",
    "\n",
    "\n",
    "print(inkvar)\n",
    "print(utgvar)\n",
    "\n",
    "\n"
   ]
  },
  {
   "cell_type": "code",
   "execution_count": 19,
   "metadata": {},
   "outputs": [
    {
     "name": "stdout",
     "output_type": "stream",
     "text": [
      "-2\n",
      "Rows: 3 cols: 5\n",
      "Ready\n"
     ]
    },
    {
     "ename": "NameError",
     "evalue": "name 'x' is not defined",
     "output_type": "error",
     "traceback": [
      "\u001b[1;31m---------------------------------------------------------------------------\u001b[0m",
      "\u001b[1;31mNameError\u001b[0m                                 Traceback (most recent call last)",
      "Cell \u001b[1;32mIn [19], line 54\u001b[0m\n\u001b[0;32m     49\u001b[0m \u001b[38;5;28miter\u001b[39m\u001b[38;5;241m=\u001b[39m\u001b[38;5;241m-\u001b[39m\u001b[38;5;241m1\u001b[39m\n\u001b[0;32m     51\u001b[0m \u001b[38;5;66;03m# construct solution, x, and check it\u001b[39;00m\n\u001b[0;32m     52\u001b[0m \u001b[38;5;66;03m# --------\u001b[39;00m\n\u001b[1;32m---> 54\u001b[0m diffx \u001b[38;5;241m=\u001b[39m np\u001b[38;5;241m.\u001b[39mlinalg\u001b[38;5;241m.\u001b[39mnorm(x\u001b[38;5;241m-\u001b[39mxcheat)\n\u001b[0;32m     55\u001b[0m diffz \u001b[38;5;241m=\u001b[39m z\u001b[38;5;241m-\u001b[39mzcheat\n\u001b[0;32m     56\u001b[0m \u001b[38;5;28mprint\u001b[39m (\u001b[38;5;124m'\u001b[39m\u001b[38;5;124mxdiff: \u001b[39m\u001b[38;5;124m'\u001b[39m\u001b[38;5;241m+\u001b[39m\u001b[38;5;28mrepr\u001b[39m(diffx))\n",
      "\u001b[1;31mNameError\u001b[0m: name 'x' is not defined"
     ]
    }
   ],
   "source": [
    "import numpy as np\n",
    "import time\n",
    "import sys\n",
    "\n",
    "rc_min = np.nanmin(c)\n",
    "print(rc_min)\n",
    "\n",
    "# npzfile= fil\n",
    "# c=npzfile['c']\n",
    "# b=npzfile['b']\n",
    "# A=npzfile['A']\n",
    "# bix=npzfile['bix']\n",
    "# zcheat=npzfile['zcheat']\n",
    "# xcheat=npzfile['xcheat']\n",
    "\n",
    "\n",
    "t1=time.time()\n",
    "\n",
    "[m,n] = np.shape(A)\n",
    "print( 'Rows: '+repr(m)+' cols: '+repr(n))\n",
    "\n",
    "# Create nix\n",
    "nix=np.setdiff1d(range(n), bix) \n",
    "\n",
    "B  = A[:, bix]\n",
    "N  = A[:, nix]\n",
    "cB = c[bix]\n",
    "cN = c[nix]\n",
    "\n",
    "# Start iterations\n",
    "iter = 0\n",
    "\n",
    "while iter >= 0:\n",
    "    iter+=1\n",
    "    \n",
    "    # calc right-hand-sides and reduced costs\n",
    "    \n",
    "    # --------\n",
    "\n",
    "\n",
    "    # calc most negative reduced cost, rc_min,\n",
    "    # and index for entering variable, inkvar\n",
    "    # --------\n",
    "    rc_min = 1; \n",
    "\n",
    "\n",
    "    if rc_min >= -1.0E-12:\n",
    "        print ('Ready')\n",
    "        iter=-1\n",
    " \n",
    "        # construct solution, x, and check it\n",
    "        # --------\n",
    "\n",
    "        diffx = np.linalg.norm(x-xcheat)\n",
    "        diffz = z-zcheat\n",
    "        print ('xdiff: '+repr(diffx))\n",
    "        print ('zdiff: '+repr(diffz))\n",
    "    else:\n",
    "        # calc entering column, a\n",
    "        # --------\n",
    "\n",
    "        if max(a) <= 0 :\n",
    "            # unbounded solution\n",
    "            print('Unbounded solution!')\n",
    "            iter=-1\n",
    "        else:\n",
    "            # calc leaving var, utgvar\n",
    "            # --------\n",
    "\n",
    "\n",
    "            print(' Iter: '+repr(iter)+' z: '+repr(z)+' rc: '+repr(rc_min)+' ink: '+repr(inkvar+1)+' utg: '+repr(utgvar+1))\n",
    "\n",
    "            # make new partition\n",
    "            # --------\n",
    "\n",
    "\n",
    "elapsed = time.time() - t1\n",
    "print('Elapsed time: '+repr(elapsed))"
   ]
  },
  {
   "cell_type": "code",
   "execution_count": null,
   "metadata": {},
   "outputs": [],
   "source": [
    "    "
   ]
  }
 ],
 "metadata": {
  "kernelspec": {
   "display_name": "Python 3.10.5 64-bit",
   "language": "python",
   "name": "python3"
  },
  "language_info": {
   "codemirror_mode": {
    "name": "ipython",
    "version": 3
   },
   "file_extension": ".py",
   "mimetype": "text/x-python",
   "name": "python",
   "nbconvert_exporter": "python",
   "pygments_lexer": "ipython3",
   "version": "3.10.5"
  },
  "orig_nbformat": 4,
  "vscode": {
   "interpreter": {
    "hash": "369f2c481f4da34e4445cda3fffd2e751bd1c4d706f27375911949ba6bb62e1c"
   }
  }
 },
 "nbformat": 4,
 "nbformat_minor": 2
}
